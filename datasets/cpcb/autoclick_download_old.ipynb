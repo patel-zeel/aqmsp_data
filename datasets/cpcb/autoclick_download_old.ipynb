{
 "cells": [
  {
   "cell_type": "code",
   "execution_count": 4,
   "metadata": {},
   "outputs": [
    {
     "name": "stdout",
     "output_type": "stream",
     "text": [
      "Size(width=1440, height=900)\n"
     ]
    }
   ],
   "source": [
    "from time import sleep\n",
    "\n",
    "try:\n",
    "    import pyautogui as pg\n",
    "except ModuleNotFoundError:\n",
    "    %pip install pyautogui\n",
    "    import pyautogui as pg\n",
    "print(pg.size())"
   ]
  },
  {
   "cell_type": "markdown",
   "metadata": {},
   "source": [
    "* Use Chrome at 80% Zoom level and pushed in the left 3/4th of the screen with the spectacle app.\n",
    "* CPCB timeout is around 17-18 minutes. We have to interrupt the script and do captcha manually.\n",
    "* It took me roughly 20-22 minutes to download data of 8 features (PM2.5, PM10, RH, SR, BP, AT, RF, TOT-RF) from 40 stations for Jan 2023 to Aug 2023 at 1 hour."
   ]
  },
  {
   "cell_type": "code",
   "execution_count": 14,
   "metadata": {},
   "outputs": [
    {
     "ename": "KeyboardInterrupt",
     "evalue": "",
     "output_type": "error",
     "traceback": [
      "\u001b[0;31m---------------------------------------------------------------------------\u001b[0m",
      "\u001b[0;31mKeyboardInterrupt\u001b[0m                         Traceback (most recent call last)",
      "Cell \u001b[0;32mIn[14], line 14\u001b[0m\n\u001b[1;32m     12\u001b[0m sleep(\u001b[39m1\u001b[39m)\n\u001b[1;32m     13\u001b[0m pg\u001b[39m.\u001b[39mclick(\u001b[39m780\u001b[39m, \u001b[39m235\u001b[39m, interval\u001b[39m=\u001b[39m\u001b[39m1\u001b[39m)  \u001b[39m# Click on download\u001b[39;00m\n\u001b[0;32m---> 14\u001b[0m sleep(\u001b[39m16\u001b[39;49m)  \u001b[39m# Wait for the page to load\u001b[39;00m\n\u001b[1;32m     15\u001b[0m \u001b[39m# pg.click(1241, 175, interval=1)  # Remove notification\u001b[39;00m\n\u001b[1;32m     16\u001b[0m \u001b[39m# sleep(2)\u001b[39;00m\n\u001b[1;32m     17\u001b[0m pg\u001b[39m.\u001b[39mclick(\u001b[39m920\u001b[39m, \u001b[39m205\u001b[39m, interval\u001b[39m=\u001b[39m\u001b[39m1\u001b[39m)  \u001b[39m# Click on back\u001b[39;00m\n",
      "\u001b[0;31mKeyboardInterrupt\u001b[0m: "
     ]
    }
   ],
   "source": [
    "pg.click(320, 720)\n",
    "flag = 0\n",
    "for i in range(40):\n",
    "    pg.click(200, 305, interval=1)  # Go to station Name\n",
    "    pg.hotkey(\"down\")  # Change to next station\n",
    "    sleep(1)\n",
    "    pg.hotkey(\"enter\")  # Confirm\n",
    "    sleep(1)\n",
    "    pg.click(430, 460, interval=1)  # Click submit\n",
    "    sleep(4)  # Wait for the page to load\n",
    "    pg.click(936, 171, interval=1)  # Close \"Success\" notification\n",
    "    sleep(1)\n",
    "    pg.click(780, 235, interval=1)  # Click on download\n",
    "    sleep(16)  # Wait for the page to load\n",
    "    # pg.click(1241, 175, interval=1)  # Remove notification\n",
    "    # sleep(2)\n",
    "    pg.click(920, 205, interval=1)  # Click on back\n",
    "    sleep(5)  # Wait for the page to load\n",
    "    # if flag == 0:\n",
    "    #     flag = int(input())\n",
    "    # else:\n",
    "    #     pass\n"
   ]
  }
 ],
 "metadata": {
  "kernelspec": {
   "display_name": "base",
   "language": "python",
   "name": "python3"
  },
  "language_info": {
   "codemirror_mode": {
    "name": "ipython",
    "version": 3
   },
   "file_extension": ".py",
   "mimetype": "text/x-python",
   "name": "python",
   "nbconvert_exporter": "python",
   "pygments_lexer": "ipython3",
   "version": "3.11.4"
  },
  "orig_nbformat": 4
 },
 "nbformat": 4,
 "nbformat_minor": 2
}
