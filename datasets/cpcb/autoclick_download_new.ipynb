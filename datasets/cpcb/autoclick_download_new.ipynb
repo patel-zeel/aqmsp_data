{
 "cells": [
  {
   "cell_type": "markdown",
   "metadata": {},
   "source": [
    "## Summary\n",
    "\n",
    "For screen size of MacBook Pro M1, 13 Inch.\n",
    "\n",
    "Now, CPCB has a new way to download the data, so I have to change the way to download the data.\n",
    "* Select state, city, station, temporal resolution and click submit. Then click on each year's download button to download the data.\n",
    "* Initial state for this app is set everything above, go the first station in the list and don't click submit. Set number of stations in the code below and run it. It downloads data from 2017 to 2023 at the time when this script has been written."
   ]
  },
  {
   "cell_type": "code",
   "execution_count": null,
   "metadata": {},
   "outputs": [],
   "source": [
    "## import mouse click module\n",
    "import pyautogui\n",
    "from time import sleep\n",
    "\n",
    "sleep(3)\n",
    "\n",
    "## click on the download button\n",
    "n_stations = 40\n",
    "for i in range(n_stations):\n",
    "    pyautogui.click(1154, 327)\n",
    "    sleep(0.5)\n",
    "    pyautogui.click(1074, 445)\n",
    "    sleep(0.5)\n",
    "    pyautogui.click(1074, 480)\n",
    "    sleep(0.5)\n",
    "    pyautogui.click(1074, 510)\n",
    "    sleep(0.5)\n",
    "    pyautogui.click(1074, 540)\n",
    "    sleep(0.5)\n",
    "    pyautogui.click(1074, 580)\n",
    "    sleep(0.5)\n",
    "    pyautogui.click(1074, 610)\n",
    "    sleep(0.5)\n",
    "    pyautogui.click(1074, 645)\n",
    "    sleep(0.5)\n",
    "    pyautogui.click(345, 324)\n",
    "    # Press down arrow key\n",
    "    pyautogui.press(\"down\")\n",
    "    # Press enter key\n",
    "    pyautogui.press(\"enter\")\n",
    "    sleep(0.5)\n"
   ]
  }
 ],
 "metadata": {
  "kernelspec": {
   "display_name": "base",
   "language": "python",
   "name": "python3"
  },
  "language_info": {
   "codemirror_mode": {
    "name": "ipython",
    "version": 3
   },
   "file_extension": ".py",
   "mimetype": "text/x-python",
   "name": "python",
   "nbconvert_exporter": "python",
   "pygments_lexer": "ipython3",
   "version": "3.11.5"
  },
  "orig_nbformat": 4
 },
 "nbformat": 4,
 "nbformat_minor": 2
}
