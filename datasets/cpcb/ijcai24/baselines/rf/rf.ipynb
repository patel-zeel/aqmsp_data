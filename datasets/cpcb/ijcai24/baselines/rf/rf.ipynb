{
 "cells": [
  {
   "cell_type": "code",
   "execution_count": 33,
   "metadata": {},
   "outputs": [],
   "source": [
    "from sklearn.ensemble import RandomForestRegressor\n",
    "from sklearn.dummy import DummyRegressor\n",
    "\n",
    "import numpy as np\n",
    "import pandas as pd\n",
    "import matplotlib.pyplot as plt\n",
    "import xarray as xr\n",
    "\n",
    "from tqdm.notebook import tqdm\n",
    "from joblib import Parallel, delayed"
   ]
  },
  {
   "cell_type": "code",
   "execution_count": 39,
   "metadata": {},
   "outputs": [
    {
     "data": {
      "application/vnd.jupyter.widget-view+json": {
       "model_id": "2281cdddde384446af5155003a4913e8",
       "version_major": 2,
       "version_minor": 0
      },
      "text/plain": [
       "  0%|          | 0/3 [00:00<?, ?it/s]"
      ]
     },
     "metadata": {},
     "output_type": "display_data"
    },
    {
     "data": {
      "application/vnd.jupyter.widget-view+json": {
       "model_id": "5d34428a296e49ab876555bfbb684b83",
       "version_major": 2,
       "version_minor": 0
      },
      "text/plain": [
       "  0%|          | 0/12 [00:00<?, ?it/s]"
      ]
     },
     "metadata": {},
     "output_type": "display_data"
    },
    {
     "data": {
      "application/vnd.jupyter.widget-view+json": {
       "model_id": "dd92d84e0cd84e68a0db01f94f972831",
       "version_major": 2,
       "version_minor": 0
      },
      "text/plain": [
       "  0%|          | 0/12 [00:00<?, ?it/s]"
      ]
     },
     "metadata": {},
     "output_type": "display_data"
    },
    {
     "data": {
      "application/vnd.jupyter.widget-view+json": {
       "model_id": "4b6f95e85aaf4ae193a53be66db8a257",
       "version_major": 2,
       "version_minor": 0
      },
      "text/plain": [
       "  0%|          | 0/12 [00:00<?, ?it/s]"
      ]
     },
     "metadata": {},
     "output_type": "display_data"
    }
   ],
   "source": [
    "features_list = [['lat', 'lon'], ['lat', 'lon', 'pop_1km'], ['lat', 'lon', 'pop_1km', 'elevation']]\n",
    "# features_list = [['lat', 'lon', 'cat_hour']]\n",
    "target = 'PM2.5'\n",
    "fold = 2\n",
    "\n",
    "res_df = {\"_\".join(features): [] for features in features_list}\n",
    "with xr.open_dataset(\"../../data.nc\") as ds:\n",
    "    pass\n",
    "\n",
    "for features in tqdm(features_list):\n",
    "    if \"cat_hour\" in features:\n",
    "        ds[\"cat_hour\"] = ds.time.dt.hour\n",
    "    \n",
    "    for month in tqdm(range(1, 13)):\n",
    "        month = str(month).zfill(2)\n",
    "        train_stations = np.load(f\"../../fold_{fold}_train.npy\", allow_pickle=True)\n",
    "        test_stations = np.load(f\"../../fold_{fold}_test.npy\", allow_pickle=True)\n",
    "        month_ds = ds.sel(time=slice(f\"2022-{month}\", f\"2022-{month}\"))\n",
    "        train_ds = month_ds.sel(station=train_stations)\n",
    "        test_ds = month_ds.sel(station=test_stations)\n",
    "        # ds[target] = ds[target].where(ds[f\"{target}_missing\"] == False)\n",
    "\n",
    "        #### spatial\n",
    "        def get_pred(t):\n",
    "            tmp_train_df = train_ds.sel(time=t).to_dataframe().reset_index()\n",
    "            tmp_test_df = test_ds.sel(time=t).to_dataframe().reset_index()\n",
    "            \n",
    "            if \"cat_hour\" in features:\n",
    "                tmp_train_df['cat_hour'] = tmp_train_df['cat_hour'].astype('category')\n",
    "                tmp_test_df['cat_hour'] = tmp_test_df['cat_hour'].astype('category')\n",
    "            \n",
    "            # tmp_train_df = tmp_train_df.dropna(subset=[target])\n",
    "            x = tmp_train_df[features]\n",
    "            y = tmp_train_df[target]\n",
    "            # model = RandomForestRegressor(n_estimators=100, n_jobs=1, random_state=0)\n",
    "            model = DummyRegressor(strategy=\"mean\")\n",
    "            model.fit(x, y)\n",
    "            \n",
    "            x_test = tmp_test_df[features]\n",
    "            y_pred = model.predict(x_test)\n",
    "            tmp_test_df[f'{target}_pred'] = y_pred\n",
    "            return tmp_test_df\n",
    "\n",
    "        pred_df_list = Parallel(n_jobs=48)(delayed(get_pred)(t) for t in test_ds.time.values)\n",
    "        pred_df = pd.concat(pred_df_list)\n",
    "        ### Normal\n",
    "    #     train_df = train_ds.to_dataframe().reset_index()\n",
    "    #     test_df = test_ds.to_dataframe().reset_index()\n",
    "        \n",
    "    #     if \"cat_hour\" in features:\n",
    "    #         train_df['cat_hour'] = train_df['cat_hour'].astype('category')\n",
    "    #         test_df['cat_hour'] = test_df['cat_hour'].astype('category')\n",
    "            \n",
    "    #     # train_df = train_df.dropna(subset=[target])\n",
    "    #     x = train_df[features]\n",
    "    #     y = train_df[target]\n",
    "    #     model = RandomForestRegressor(n_estimators=1000, n_jobs=-1, random_state=0)\n",
    "    #     model.fit(x, y)\n",
    "\n",
    "    #     x_test = test_df[features]\n",
    "    #     y_pred = model.predict(x_test)\n",
    "    #     test_df[f'{target}_pred'] = y_pred        \n",
    "        \n",
    "        pred_df = pred_df[pred_df[f\"{target}_missing\"] == False]\n",
    "\n",
    "        rmse = np.sqrt(np.mean((pred_df[target] - pred_df[f'{target}_pred'])**2))\n",
    "        res_df[\"_\".join(features)].append(rmse)\n",
    "    np.save(f\"{'_'.join(features)}_fold_{fold}_res.npy\", res_df[\"_\".join(features)])"
   ]
  },
  {
   "cell_type": "code",
   "execution_count": 41,
   "metadata": {},
   "outputs": [
    {
     "name": "stdout",
     "output_type": "stream",
     "text": [
      "lat_lon: 43.98099883293141\n",
      "lat_lon_pop_1km: 43.98099883293141\n",
      "lat_lon_pop_1km_elevation: 43.98099883293141\n"
     ]
    },
    {
     "data": {
      "text/plain": [
       "<matplotlib.legend.Legend at 0x7f13c4261b90>"
      ]
     },
     "execution_count": 41,
     "metadata": {},
     "output_type": "execute_result"
    },
    {
     "data": {
      "image/png": "[encoded data removed]",
      "text/plain": [
       "<Figure size 640x480 with 1 Axes>"
      ]
     },
     "metadata": {},
     "output_type": "display_data"
    }
   ],
   "source": [
    "reload_df = {}\n",
    "fold = 2\n",
    "for features in [\"lat_lon\", \"lat_lon_pop_1km\", \"lat_lon_pop_1km_elevation\"]:\n",
    "    reload_df[features] = np.load(f\"{features}_fold_{fold}_res.npy\", allow_pickle=True)\n",
    "    print(f\"{features}: {np.mean(reload_df[features])}\")\n",
    "    plt.plot(reload_df[features], label=features)\n",
    "plt.legend()"
   ]
  },
  {
   "cell_type": "code",
   "execution_count": null,
   "metadata": {},
   "outputs": [],
   "source": []
  }
 ],
 "metadata": {
  "kernelspec": {
   "display_name": "torch_gpu_py311",
   "language": "python",
   "name": "python3"
  },
  "language_info": {
   "codemirror_mode": {
    "name": "ipython",
    "version": 3
   },
   "file_extension": ".py",
   "mimetype": "text/x-python",
   "name": "python",
   "nbconvert_exporter": "python",
   "pygments_lexer": "ipython3",
   "version": "3.11.5"
  }
 },
 "nbformat": 4,
 "nbformat_minor": 2
}
